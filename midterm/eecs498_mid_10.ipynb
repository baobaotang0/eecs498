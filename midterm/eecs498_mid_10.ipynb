{
 "cells": [
  {
   "cell_type": "markdown",
   "id": "4624fac2",
   "metadata": {},
   "source": [
    "# Problem 7"
   ]
  },
  {
   "cell_type": "markdown",
   "id": "51eb0b88",
   "metadata": {},
   "source": [
    "### Note\n",
    "(1) In this question, you will implement the algorithm shown in part (b) using the boston housing datasets that you have already played with in HW2. \n",
    "\n",
    "(2) You should not change any code without the \"TODO: \" label. I would recommend just search \"TODO\" and fill in the code. "
   ]
  },
  {
   "cell_type": "code",
   "execution_count": null,
   "id": "4d5f0eb9",
   "metadata": {},
   "outputs": [],
   "source": [
    "import pandas as pd\n",
    "from sklearn.datasets import load_boston\n",
    "from sklearn import preprocessing\n",
    "import numpy as np"
   ]
  },
  {
   "cell_type": "code",
   "execution_count": null,
   "id": "a9c4d4f8",
   "metadata": {},
   "outputs": [],
   "source": [
    "boston = load_boston()\n",
    "X = boston.data\n",
    "y = boston.target\n",
    "\n",
    "# Scale datasets\n",
    "X = preprocessing.scale(X)\n",
    "\n",
    "# The number of features\n",
    "d = X.shape[1]\n",
    "\n",
    "# Split the data into train (including validation data) and test\n",
    "n_train_all = 400\n",
    "n_val = 100\n",
    "\n",
    "X_train_all = X[0:n_train_all]\n",
    "y_train_all = y[0:n_train_all]\n",
    "X_val = X[0:n_val]\n",
    "y_val = y[0:n_val]\n",
    "X_train = X[n_val:n_train_all]\n",
    "y_train = y[n_val:n_train_all]\n",
    "X_test = X[n_train_all:]\n",
    "y_test = y[n_train_all:]"
   ]
  },
  {
   "cell_type": "code",
   "execution_count": null,
   "id": "ced3b20c",
   "metadata": {},
   "outputs": [],
   "source": [
    "# Set up the available parameter grids, you should not change this\n",
    "alpha_grid = np.linspace(0.9, 1, 100)\n",
    "lambda_grid = np.linspace(0.01, 20, 100)\n",
    "\n",
    "# Create an all-zero matrix to store the validation error\n",
    "val_err = np.zeros((len(alpha_grid), len(lambda_grid)))\n",
    "\n",
    "# The runtime of this nested for loop should be less than 20 seconds if everything is correct\n",
    "for i in range(len(alpha_grid)):\n",
    "    for j in range(len(lambda_grid)):\n",
    "        alp = alpha_grid[i]\n",
    "        lam = lambda_grid[j]\n",
    "        ##################################################\n",
    "        # TODO: Express beta in terms of alpha and lambda#\n",
    "        \n",
    "        beta = None\n",
    "        \n",
    "        ##################################################\n",
    "        \n",
    "        reg = linear_model.Lasso(alpha = beta)\n",
    "        \n",
    "        ##################################################\n",
    "        # TODO: Construct the \\tilde{X} and \\tilde{y}    #\n",
    "        \n",
    "        X_train_tilde = None\n",
    "        y_train_tilde = None\n",
    "        X_val_tilde = None\n",
    "        y_val_tilde = None\n",
    "        \n",
    "        ##################################################\n",
    "        \n",
    "        reg.fit(X_train_tilde, y_train_tilde)\n",
    "        \n",
    "        ##################################################\n",
    "        # TODO: Calculate the validation errors with the #\n",
    "        # current parameters and store into val_err.     #\n",
    "        \n",
    "        val_err_ij = None\n",
    "        \n",
    "        ##################################################\n",
    "\n",
    "        val_err[i,j] = val_err_ij"
   ]
  },
  {
   "cell_type": "code",
   "execution_count": null,
   "id": "6402cf22",
   "metadata": {},
   "outputs": [],
   "source": [
    "# TODO: Find the indices of best parameter pairs, which gives the lowest val error\n",
    "ind = None # Try np.unravel_index() or just use np.argmin() shown in HW3 Pr2 (b)\n",
    "\n",
    "# TODO: Pick the best parameters in the given range\n",
    "alpha_best = alpha_grid[ind[0]]\n",
    "lambda_best = lambda_grid[ind[1]]\n",
    "beta_best = None\n",
    "\n",
    "# TODO: Retrain the LASSO model with best parameters and all training data\n",
    "reg = linear_model.Lasso(alpha = beta_best)\n",
    "X_train_all_tilde = None\n",
    "y_train_all_tilde = None\n",
    "reg.fit(X_train_all_tilde, y_train_all_tilde)\n",
    "\n",
    "# TODO: Calculate the MSE on test datasets with the best LASSO model\n",
    "y_test_pred = reg.predict(X_test)\n",
    "mse_test = None\n",
    "\n",
    "print(\"The optimal theta: \", reg.coef_)\n",
    "print(\"The MSE on test datasets: \", mse_test)"
   ]
  }
 ],
 "metadata": {
  "kernelspec": {
   "display_name": "Python 3 (ipykernel)",
   "language": "python",
   "name": "python3"
  },
  "language_info": {
   "codemirror_mode": {
    "name": "ipython",
    "version": 3
   },
   "file_extension": ".py",
   "mimetype": "text/x-python",
   "name": "python",
   "nbconvert_exporter": "python",
   "pygments_lexer": "ipython3",
   "version": "3.10.6"
  }
 },
 "nbformat": 4,
 "nbformat_minor": 5
}
