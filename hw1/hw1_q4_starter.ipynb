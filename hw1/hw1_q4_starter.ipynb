{
 "cells": [
  {
   "cell_type": "markdown",
   "metadata": {
    "id": "IcHDuwUHsDvJ"
   },
   "source": [
    "# Numpy Exercises\n",
    "\n",
    "This notebook contains the exercises for question 4. Please fill out the incomplete cells, and attach this notebook as a pdf in your write-up when you are done"
   ]
  },
  {
   "cell_type": "code",
   "execution_count": null,
   "metadata": {
    "id": "yXv0se9esDvR"
   },
   "outputs": [],
   "source": [
    "import numpy as np"
   ]
  },
  {
   "cell_type": "markdown",
   "metadata": {
    "id": "nzC-qOHnsDvS"
   },
   "source": [
    "We've provided sample test cases for you to verify your code with. Please note that passing these test cases does **not** gaurantee that your implementation is correct. We encourage you to write your own test cases, especially when debugging."
   ]
  },
  {
   "cell_type": "code",
   "execution_count": null,
   "metadata": {
    "id": "rycFFD6tsDvS"
   },
   "outputs": [],
   "source": [
    "TEST_INPUT_PART_A = np.array([[0.37454012, 0.95071431, 0.73199394],\n",
    " [0.59865848, 0.15601864, 0.15599452],\n",
    " [0.05808361, 0.86617615, 0.60111501],\n",
    " [0.70807258, 0.02058449, 0.96990985],\n",
    " [0.83244264, 0.21233911, 0.18182497]])\n",
    "TEST_OUTPUT_PART_A = np.array([2.05724837, 0.91067164, 1.52537477, 1.69856692, 1.22660672])\n",
    "\n",
    "TEST_INPUT_PART_B1 = np.array([1, 2, 3, 4])\n",
    "TEST_INPUT_PART_B2 = np.array([0.1, 0.2, 0.3])\n",
    "TEST_OUTPUT_PART_B = np.array([[1.1, 1.2, 1.3],\n",
    " [2.1, 2.2, 2.3],\n",
    " [3.1, 3.2, 3.3],\n",
    " [4.1, 4.2, 4.3]])\n",
    "\n",
    "TEST_INPUT_PART_C1 = np.array(\n",
    "[[0.00552212, 0.81546143, 0.70685734],\n",
    " [0.72900717, 0.77127035, 0.07404465],\n",
    " [0.35846573, 0.11586906, 0.86310343],\n",
    " [0.62329813, 0.33089802, 0.06355835]]\n",
    ")\n",
    "TEST_INPUT_PART_C2 = np.array(\n",
    "[[0.31098232, 0.32518332, 0.72960618],\n",
    " [0.63755747, 0.88721274, 0.47221493],\n",
    " [0.11959425, 0.71324479, 0.76078505],\n",
    " [0.5612772,  0.77096718, 0.4937956 ],\n",
    " [0.52273283, 0.42754102, 0.02541913],\n",
    " [0.10789143, 0.03142919, 0.63641041]]\n",
    ")\n",
    "TEST_OUTPUT_PART_C = np.array([2, 1, 0, 1, 3, 2])\n",
    "\n",
    "TEST_INPUT_PART_D0a = np.array([[0.63352971, 0.53577468, 0.09028977, 0.8353025],\n",
    " [0.32078006, 0.18651851, 0.04077514, 0.59089294],\n",
    " [0.67756436, 0.01658783, 0.51209306, 0.22649578],\n",
    " [0.64517279, 0.17436643, 0.69093774, 0.38673535],\n",
    " [0.93672999, 0.13752094, 0.34106635, 0.11347352]])\n",
    "TEST_INPUT_PART_D0b = np.array([[0.92469362],\n",
    " [0.87733935],\n",
    " [0.25794163],\n",
    " [0.65998405]])\n",
    "TEST_OUTPUT_PART_D0 = np.array([2, 0.719627281044947])\n",
    "\n",
    "def check_answer(predicted, actual):\n",
    "    try:\n",
    "        assert np.allclose(predicted, actual), \"INCORRECT\"\n",
    "        print(\"CORRECT\")\n",
    "    except:\n",
    "        print(\"INCORRECT\")"
   ]
  },
  {
   "cell_type": "markdown",
   "metadata": {
    "id": "wmHXEYrhsDvT"
   },
   "source": [
    "## Part A (6 pt)\n",
    "One use case of numpy is computing the norm of a set of vectors. In this question, given $N×M$ matrix $A$ compute a $N$-dimensional vector $x$ such that entry $x[i]$ is the $l_1$-norm of row i in matrix $A$ (maximum lines of code 1 - note that line limits do not include the function definition lines; no partial credit will awarded if more lines are used)."
   ]
  },
  {
   "cell_type": "code",
   "execution_count": 2,
   "metadata": {
    "id": "sKrTXQwbsDvU",
    "outputId": "369ec68c-fc95-4f20-e9cb-9ab711210f33"
   },
   "outputs": [
    {
     "ename": "NameError",
     "evalue": "name 'check_answer' is not defined",
     "output_type": "error",
     "traceback": [
      "\u001B[1;31m---------------------------------------------------------------------------\u001B[0m",
      "\u001B[1;31mNameError\u001B[0m                                 Traceback (most recent call last)",
      "\u001B[1;32m~\\AppData\\Local\\Temp/ipykernel_9584/4110981893.py\u001B[0m in \u001B[0;36m<module>\u001B[1;34m\u001B[0m\n\u001B[0;32m      4\u001B[0m     \u001B[1;32mreturn\u001B[0m \u001B[0mnp\u001B[0m\u001B[1;33m.\u001B[0m\u001B[0mlinalg\u001B[0m\u001B[1;33m.\u001B[0m\u001B[0mnorm\u001B[0m\u001B[1;33m(\u001B[0m\u001B[0mA\u001B[0m\u001B[1;33m,\u001B[0m \u001B[0mord\u001B[0m\u001B[1;33m=\u001B[0m\u001B[1;36m1\u001B[0m\u001B[1;33m,\u001B[0m \u001B[0maxis\u001B[0m\u001B[1;33m=\u001B[0m\u001B[1;36m1\u001B[0m\u001B[1;33m)\u001B[0m\u001B[1;33m\u001B[0m\u001B[1;33m\u001B[0m\u001B[0m\n\u001B[0;32m      5\u001B[0m \u001B[1;33m\u001B[0m\u001B[0m\n\u001B[1;32m----> 6\u001B[1;33m \u001B[0mcheck_answer\u001B[0m\u001B[1;33m(\u001B[0m\u001B[0mpart_a\u001B[0m\u001B[1;33m(\u001B[0m\u001B[0mTEST_INPUT_PART_A\u001B[0m\u001B[1;33m)\u001B[0m\u001B[1;33m,\u001B[0m \u001B[0mTEST_OUTPUT_PART_A\u001B[0m\u001B[1;33m)\u001B[0m\u001B[1;33m\u001B[0m\u001B[1;33m\u001B[0m\u001B[0m\n\u001B[0m\u001B[0;32m      7\u001B[0m \u001B[1;33m\u001B[0m\u001B[0m\n",
      "\u001B[1;31mNameError\u001B[0m: name 'check_answer' is not defined"
     ]
    }
   ],
   "source": [
    "def part_a(A):\n",
    "    # TODO: given matrix A of size (N,M) return a vector\n",
    "    # of size (N,) that consists of the l1-norm of each row\n",
    "    return np.linalg.norm(A, ord=1, axis=1)\n",
    "\n",
    "check_answer(part_a(TEST_INPUT_PART_A), TEST_OUTPUT_PART_A)"
   ]
  },
  {
   "cell_type": "markdown",
   "metadata": {
    "id": "uTjMpo9WsDvV"
   },
   "source": [
    "## Part B (6 pt)\n",
    "Another useful feature in numpy is broadcasting. Sometimes given a pair of vectors (or more) we wish to reconstruct a matrix from them. In this case given $N$-dimensional vector $x$ and $M$-dimensional vector $y$, construct and return $N \\times M$ matrix C where $C[i, j] = x[i]  + y[j]$. (maximum lines of code 1 - note that line limits do not include the function definition lines; no partial credit will awarded if more lines are used)."
   ]
  },
  {
   "cell_type": "code",
   "execution_count": null,
   "metadata": {
    "id": "JehsRtkesDvV",
    "outputId": "17995a8f-2f34-4df6-8cb2-04b78a2ccc36"
   },
   "outputs": [],
   "source": [
    "def part_b(x, y):\n",
    "    # TODO: Given a vector x (size (N,)), and an vector y (size (M,))\n",
    "    # return an NxM matrix A (size (N,M)) where C[i,j] = x[i] + y[j]\n",
    "    return x[:,np.newaxis] + y\n",
    "\n",
    "check_answer(part_b(TEST_INPUT_PART_B1, TEST_INPUT_PART_B2), TEST_OUTPUT_PART_B)"
   ]
  },
  {
   "cell_type": "markdown",
   "metadata": {
    "id": "W-R0J5fYsDvV"
   },
   "source": [
    "## Part C (6 pt)\n",
    "Another potential application is assigning points to groups. In this question we will consider a set of cell towers and a set of home addresses. The goal is to find the the closest cell tower for each home address. You are given the set of cell towers in matrix $\\boldsymbol A$. $\\boldsymbol A \\in \\mathbb{R}^{M \\times D}$ denotes the locations of $M$ towers in a $D$-dimensional space. You are also given a matrix $\\boldsymbol B \\in \\mathbb{R}^{N \\times D}$ which denotes the locations of $N$ home addresses. You must return the vector $\\boldsymbol x \\in \\mathbb{R}^N$ where $x_i$ is the cell tower that home $i$ ($i^{th}$ row of matrix $\\boldsymbol B$) should be assigned to. A buggy solution is provided, which you must fix.\n",
    "\t\t\n",
    "For example, using python indexing notation, if home address $B[8, :]$ is closest to the cell tower $A[6, :]$, then $x[9] = 6$. (maximum lines of code 4 - note that line limits do not include the function definition lines; no partial credit will awarded if more lines are used). \n",
    "\n",
    "HINT: $||\\boldsymbol x - \\boldsymbol y||_2^2  = ||\\boldsymbol x||_2^2 + ||\\boldsymbol y||_2^2 - 2\\boldsymbol x^T\\boldsymbol y$"
   ]
  },
  {
   "cell_type": "markdown",
   "metadata": {
    "id": "LzAPBrA2sDvW"
   },
   "source": [
    "For this question, we have provided a buggy solution. Please find and fix the bugs in the solution for full credit."
   ]
  },
  {
   "cell_type": "code",
   "execution_count": null,
   "metadata": {
    "id": "VGBy4y-csDvW",
    "outputId": "158cd001-9b40-404b-a694-fe3b07c17668"
   },
   "outputs": [],
   "source": [
    "def part_c(A, B):\n",
    "    # TODO: fix the buggy solution below\n",
    "    x = ((np.linalg.norm(A, axis=1)**2)[:,np.newaxis] + (np.linalg.norm(B, axis=1)**2) - 2 * np.matmul(A, B.T))\n",
    "    return np.argmin(x, axis=0)\n",
    "\n",
    "check_answer(part_c(TEST_INPUT_PART_C1, TEST_INPUT_PART_C2), TEST_OUTPUT_PART_C)"
   ]
  },
  {
   "cell_type": "markdown",
   "metadata": {
    "id": "wWoJ2-P8sDvW"
   },
   "source": [
    "## Part D  (6 pt) \n",
    "Given a matrix $\\boldsymbol A \\in \\mathbb{R}^{M \\times D}$ and vector $\\boldsymbol x \\in \\mathbb{R}^D$, find the row of $\\boldsymbol A$ such that the $\\textbf{cosine of}$ the angle between this row and the vector $\\boldsymbol x$ is smaller than all other rows. Return a tuple of the form (row index of $\\boldsymbol A$, $\\cos(\\alpha)$), where $\\alpha$ is the angle between $\\boldsymbol x$ and this row of $\\boldsymbol A$. You may assume all angles are between $\\frac{-\\pi}{2}$ and $\\frac{\\pi}{2}$ radians. Example solution: $(6, 0.7)$ (maximum lines of code 5 - note that line limits do not include the function definition lines; no partial credit will awarded if more lines are used).\n",
    "\n",
    "HINT: $\\boldsymbol x^T\\boldsymbol y  = ||\\boldsymbol x||_2 ||\\boldsymbol y||_2 \\cos(\\alpha)$"
   ]
  },
  {
   "cell_type": "code",
   "execution_count": null,
   "metadata": {
    "id": "RDBCExufsDvW",
    "outputId": "874bb8ea-f0df-4451-f877-241ab13fe6d5"
   },
   "outputs": [],
   "source": [
    "def part_d(A, x):\n",
    "    cos_alpha = (A@x).flatten()/(np.linalg.norm(A, axis=1)*np.linalg.norm(x, axis=0))\n",
    "    n = np.argmin(x, axis=0)[0]\n",
    "    return [n, cos_alpha[n]]\n",
    "\n",
    "check_answer(part_d(TEST_INPUT_PART_D0a, TEST_INPUT_PART_D0b), TEST_OUTPUT_PART_D0)"
   ]
  },
  {
   "cell_type": "markdown",
   "metadata": {
    "id": "34iEfuN0sDvX"
   },
   "source": [
    "Make sure to export this notebook as a pdf and attach it to your solution document."
   ]
  }
 ],
 "metadata": {
  "colab": {
   "collapsed_sections": [],
   "name": "q4_starter.ipynb",
   "provenance": []
  },
  "kernelspec": {
   "display_name": "Python 3 (ipykernel)",
   "language": "python",
   "name": "python3"
  },
  "language_info": {
   "codemirror_mode": {
    "name": "ipython",
    "version": 3
   },
   "file_extension": ".py",
   "mimetype": "text/x-python",
   "name": "python",
   "nbconvert_exporter": "python",
   "pygments_lexer": "ipython3",
   "version": "3.10.6"
  }
 },
 "nbformat": 4,
 "nbformat_minor": 1
}